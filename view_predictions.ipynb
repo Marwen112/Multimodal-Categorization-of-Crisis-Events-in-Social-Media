{
 "cells": [
  {
   "cell_type": "code",
   "execution_count": 69,
   "metadata": {},
   "outputs": [
    {
     "name": "stdout",
     "output_type": "stream",
     "text": [
      "\u001b[33m[*] 281 samples loaded.\u001b[0m\n"
     ]
    }
   ],
   "source": [
    "import argparse\n",
    "from PIL import Image, ImageDraw, ImageOps, ImageFont\n",
    "from crisismmd_dataset import clean_text\n",
    "\n",
    "from torch.utils.data.dataloader import DataLoader\n",
    "from crisismmd_dataset import CrisisMMDataset, labels_task1, labels_task2\n",
    "\n",
    "prediction_file = './prediction.csv'\n",
    "task = 'task2'\n",
    "\n",
    "class Args:\n",
    "    pass\n",
    "opt = Args()\n",
    "opt.load_size = 228\n",
    "opt.crop_size = 224\n",
    "opt.max_dataset_size = 2147483648\n",
    "opt.debug = True\n",
    "\n",
    "test_set = CrisisMMDataset()\n",
    "test_set.initialize(opt, phase='test', cat='all',\n",
    "                    task=task)\n",
    "\n",
    "predictions = open(prediction_file).readlines()\n",
    "label_map = labels_task1 if task == 'task1' else labels_task2\n",
    "inverse_map = {v: k for k, v in label_map.items()}"
   ]
  },
  {
   "cell_type": "code",
   "execution_count": 107,
   "metadata": {},
   "outputs": [],
   "source": [
    "import textwrap\n",
    "def divide(text, length):\n",
    "    # Devide text into multiple lines if too long\n",
    "    result = []\n",
    "    for line in textwrap.wrap(text, width=length):\n",
    "        result.append(line)\n",
    "    return \"\\n\".join(result)\n",
    "\n",
    "output_size = 224\n",
    "textarea_size = 50\n",
    "\n",
    "def show(idx, dataset):\n",
    "    data = dataset[idx]\n",
    "    with Image.open(data['path_image']) as imagePIL:\n",
    "        image = imagePIL.resize((output_size, output_size))\n",
    "\n",
    "        toShow = Image.new(image.mode, (output_size, output_size+textarea_size), (255, 255, 255))\n",
    "        toShow.paste(image, (0, textarea_size))\n",
    "\n",
    "        font = ImageFont.truetype('FONTS/arial.ttf', 9)\n",
    "        text = clean_text(data['text'])\n",
    "\n",
    "        caption = \"Tweet: {} \\nPrediction: {}\".format(divide(text, 40), inverse_map[int(predictions[idx])])\n",
    "        ImageDraw.Draw(toShow).text(\n",
    "            (0, 0),     # position\n",
    "            caption,\n",
    "            (0, 0, 0),   # color\n",
    "            font=font\n",
    "        )\n",
    "        toShow.show()"
   ]
  },
  {
   "cell_type": "code",
   "execution_count": 110,
   "metadata": {},
   "outputs": [],
   "source": [
    "for i in range(10, 20):\n",
    "    show(i, test_set)"
   ]
  },
  {
   "cell_type": "code",
   "execution_count": null,
   "metadata": {},
   "outputs": [],
   "source": []
  },
  {
   "cell_type": "code",
   "execution_count": null,
   "metadata": {},
   "outputs": [],
   "source": []
  }
 ],
 "metadata": {
  "interpreter": {
   "hash": "d5f9a1bb6547c9ab41a73bef8ed9bb0f5305962f8151636a8c9f0ad7219be3fa"
  },
  "kernelspec": {
   "display_name": "Python 3.9.7 64-bit ('11777': conda)",
   "name": "python3"
  },
  "language_info": {
   "codemirror_mode": {
    "name": "ipython",
    "version": 3
   },
   "file_extension": ".py",
   "mimetype": "text/x-python",
   "name": "python",
   "nbconvert_exporter": "python",
   "pygments_lexer": "ipython3",
   "version": "3.9.7"
  },
  "orig_nbformat": 4
 },
 "nbformat": 4,
 "nbformat_minor": 2
}
